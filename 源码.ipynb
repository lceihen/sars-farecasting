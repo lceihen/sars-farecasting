{
 "cells": [
  {
   "cell_type": "code",
   "execution_count": 22,
   "metadata": {},
   "outputs": [
    {
     "name": "stdout",
     "output_type": "stream",
     "text": [
      "<class 'pandas.core.frame.DataFrame'>\n",
      "RangeIndex: 2538 entries, 0 to 2537\n",
      "Data columns (total 5 columns):\n",
      " #   Column                        Non-Null Count  Dtype \n",
      "---  ------                        --------------  ----- \n",
      " 0   Date                          2538 non-null   object\n",
      " 1   Country                       2538 non-null   object\n",
      " 2   Cumulative number of case(s)  2538 non-null   int64 \n",
      " 3   Number of deaths              2538 non-null   int64 \n",
      " 4   Number recovered              2538 non-null   int64 \n",
      "dtypes: int64(3), object(2)\n",
      "memory usage: 99.3+ KB\n",
      "Index(['Country'], dtype='object')\n",
      "0                    Germany\n",
      "1                     Canada\n",
      "2                  Singapore\n",
      "3       Hong Kong SAR, China\n",
      "4                Switzerland\n",
      "                ...         \n",
      "2533             Switzerland\n",
      "2534                Thailand\n",
      "2535          United Kingdom\n",
      "2536           United States\n",
      "2537                Viet Nam\n",
      "Name: Country, Length: 2538, dtype: object\n",
      "0        9\n",
      "1        4\n",
      "2       26\n",
      "3       10\n",
      "4       31\n",
      "        ..\n",
      "2533    31\n",
      "2534    33\n",
      "2535    34\n",
      "2536    35\n",
      "2537    36\n",
      "Name: Country, Length: 2538, dtype: int32\n"
     ]
    },
    {
     "data": {
      "image/png": "[encoded data removed]",
      "text/plain": [
       "<Figure size 432x288 with 1 Axes>"
      ]
     },
     "metadata": {
      "needs_background": "light"
     },
     "output_type": "display_data"
    }
   ],
   "source": [
    "from sklearn.metrics import r2_score\n",
    "import numpy as np \n",
    "import pandas as pd \n",
    "from sklearn.model_selection import KFold\n",
    "from sklearn import metrics\n",
    "import matplotlib.pyplot as plt\n",
    "%matplotlib inline\n",
    "import seaborn as sns\n",
    "df = pd.read_csv(\"sars_2003_complete_dataset_clean.csv\")\n",
    "df.info()\n",
    "df.Date = df.Date.apply(pd.to_datetime)\n",
    "\n",
    "df['Day_of_the_year'] = df.Date.dt.strftime(\"%d\").astype(int)\n",
    "df['Week_of_the_year'] = df.Date.dt.strftime(\"%w\").astype(int)\n",
    "df['Month_of_the_year'] = df.Date.dt.strftime(\"%m\").astype(int)\n",
    "df.drop(['Date'], inplace = True, axis = 1)\n",
    "obj_type_features = df.select_dtypes(include = \"object\").columns\n",
    "print (obj_type_features)\n",
    "print (df.Country) #Before Encoding\n",
    "from sklearn.preprocessing import LabelEncoder\n",
    "le = LabelEncoder()\n",
    "df.Country = le.fit_transform(df.Country)\n",
    "print (df.Country)\n",
    "df\n",
    "from sklearn.model_selection import train_test_split\n",
    "X = df.drop(['Number of deaths'], axis = 1)\n",
    "y = df['Number of deaths']\n",
    "X_train, X_test, y_train, y_test = train_test_split(X, y, test_size=0.33, random_state=42)\n",
    "from sklearn.preprocessing import StandardScaler\n",
    "ss = StandardScaler()\n",
    "X_train = ss.fit_transform(X_train)\n",
    "X_test = ss.transform(X_test)\n",
    "plt.scatter(df['Country'],df['Number of deaths'])\n",
    "plt.xlabel(\"X\")\n",
    "plt.ylabel(\"y\")\n",
    "plt.show()\n"
   ]
  },
  {
   "cell_type": "code",
   "execution_count": 14,
   "metadata": {},
   "outputs": [
    {
     "name": "stdout",
     "output_type": "stream",
     "text": [
      " (R2 Score):  0.8065765609561215\n"
     ]
    }
   ],
   "source": [
    "from sklearn.linear_model import LinearRegression\n",
    "reg = LinearRegression()\n",
    "reg.fit(X_train, y_train)\n",
    "y_pred = reg.predict(X_test)\n",
    "print(\" (R2 Score): \", metrics.r2_score(y_test, y_pred))"
   ]
  },
  {
   "cell_type": "code",
   "execution_count": 21,
   "metadata": {},
   "outputs": [
    {
     "name": "stdout",
     "output_type": "stream",
     "text": [
      " (R2 Score):  0.9522960119110796\n"
     ]
    },
    {
     "name": "stderr",
     "output_type": "stream",
     "text": [
      "D:\\lceihen\\install\\anaconda202002\\lib\\site-packages\\sklearn\\linear_model\\_logistic.py:940: ConvergenceWarning: lbfgs failed to converge (status=1):\n",
      "STOP: TOTAL NO. of ITERATIONS REACHED LIMIT.\n",
      "\n",
      "Increase the number of iterations (max_iter) or scale the data as shown in:\n",
      "    https://scikit-learn.org/stable/modules/preprocessing.html\n",
      "Please also refer to the documentation for alternative solver options:\n",
      "    https://scikit-learn.org/stable/modules/linear_model.html#logistic-regression\n",
      "  extra_warning_msg=_LOGISTIC_SOLVER_CONVERGENCE_MSG)\n"
     ]
    }
   ],
   "source": [
    "from sklearn.linear_model import LogisticRegression\n",
    "LR=LogisticRegression(C=5)\n",
    "LR.fit(X_train, y_train)\n",
    "y_pred = LR.predict(X_test)\n",
    "print(\" (R2 Score): \", metrics.r2_score(y_test, y_pred))\n"
   ]
  },
  {
   "cell_type": "code",
   "execution_count": null,
   "metadata": {},
   "outputs": [],
   "source": [
    "from sklearn.svm import SVR\n",
    "svr = SVR(kernel='poly',degree=3)\n",
    "svr.fit(X_train, y_train)\n",
    "y_pred = svr.predict(X_test)\n",
    "print(\" (R2 Score): \", metrics.r2_score(y_test, y_pred))"
   ]
  },
  {
   "cell_type": "code",
   "execution_count": null,
   "metadata": {},
   "outputs": [],
   "source": []
  },
  {
   "cell_type": "code",
   "execution_count": null,
   "metadata": {},
   "outputs": [],
   "source": []
  }
 ],
 "metadata": {
  "kernelspec": {
   "display_name": "Python 3",
   "language": "python",
   "name": "python3"
  },
  "language_info": {
   "codemirror_mode": {
    "name": "ipython",
    "version": 3
   },
   "file_extension": ".py",
   "mimetype": "text/x-python",
   "name": "python",
   "nbconvert_exporter": "python",
   "pygments_lexer": "ipython3",
   "version": "3.7.6"
  }
 },
 "nbformat": 4,
 "nbformat_minor": 4
}
